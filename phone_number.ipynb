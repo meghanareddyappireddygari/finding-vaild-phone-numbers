{
  "nbformat": 4,
  "nbformat_minor": 0,
  "metadata": {
    "colab": {
      "name": "phone number",
      "provenance": [],
      "collapsed_sections": [],
      "authorship_tag": "ABX9TyOQmQaC5XKCy+/V+UX85SIU",
      "include_colab_link": true
    },
    "kernelspec": {
      "name": "python3",
      "display_name": "Python 3"
    },
    "language_info": {
      "name": "python"
    }
  },
  "cells": [
    {
      "cell_type": "markdown",
      "metadata": {
        "id": "view-in-github",
        "colab_type": "text"
      },
      "source": [
        "<a href=\"https://colab.research.google.com/github/meghanareddyappireddygari/finding-vaild-phone-numbers/blob/main/phone_number.ipynb\" target=\"_parent\"><img src=\"https://colab.research.google.com/assets/colab-badge.svg\" alt=\"Open In Colab\"/></a>"
      ]
    },
    {
      "cell_type": "code",
      "metadata": {
        "colab": {
          "base_uri": "https://localhost:8080/"
        },
        "id": "BDImiung_JTN",
        "outputId": "035076dd-b08e-44f2-dbea-3a28d1e9b3d7"
      },
      "source": [
        "pip install phonenumbers"
      ],
      "execution_count": 1,
      "outputs": [
        {
          "output_type": "stream",
          "name": "stdout",
          "text": [
            "Collecting phonenumbers\n",
            "  Downloading phonenumbers-8.12.38-py2.py3-none-any.whl (2.6 MB)\n",
            "\u001b[K     |████████████████████████████████| 2.6 MB 5.3 MB/s \n",
            "\u001b[?25hInstalling collected packages: phonenumbers\n",
            "Successfully installed phonenumbers-8.12.38\n"
          ]
        }
      ]
    },
    {
      "cell_type": "code",
      "metadata": {
        "id": "TpvinaJa_NyL"
      },
      "source": [
        "import phonenumbers\n",
        "from phonenumbers import carrier, geocoder, timezone"
      ],
      "execution_count": 2,
      "outputs": []
    },
    {
      "cell_type": "code",
      "metadata": {
        "colab": {
          "base_uri": "https://localhost:8080/"
        },
        "id": "yVbc6teU_WzN",
        "outputId": "637199d1-a5b0-40eb-865b-f02df9e01ac1"
      },
      "source": [
        "mobileNo=input(\"Mobile no. with country code:\")\n",
        "mobileNo=phonenumbers.parse(mobileNo)\n",
        "print(timezone.time_zones_for_number(mobileNo))\n",
        "print(carrier.name_for_number(mobileNo,\"en\"))\n",
        "print(geocoder.description_for_number(mobileNo,\"en\"))\n",
        "print(\"Valid Mobile Number:\",phonenumbers.is_valid_number(mobileNo))\n",
        "print(\"Checking possibility of Number:\",phonenumbers.is_possible_number(mobileNo))"
      ],
      "execution_count": 4,
      "outputs": [
        {
          "output_type": "stream",
          "name": "stdout",
          "text": [
            "Mobile no. with country code:+91 9490008600\n",
            "('Asia/Calcutta',)\n",
            "BSNL MOBILE\n",
            "India\n",
            "Valid Mobile Number: True\n",
            "Checking possibility of Number: True\n"
          ]
        }
      ]
    }
  ]
}